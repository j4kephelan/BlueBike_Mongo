{
 "cells": [
  {
   "cell_type": "markdown",
   "metadata": {},
   "source": [
    "This file reads in the 15 million rows of CSV trip data and creates JSONs to be inserted into the MongoDB database."
   ]
  },
  {
   "cell_type": "code",
   "execution_count": null,
   "metadata": {},
   "outputs": [],
   "source": [
    "import pandas as pd\n",
    "import json "
   ]
  },
  {
   "cell_type": "code",
   "execution_count": 13,
   "metadata": {},
   "outputs": [],
   "source": [
    "# Create station object list from our stations.json file\n",
    "stations = {}\n",
    "with open(\"stations.json\", \"r\") as file:\n",
    "    stations = json.load(file)"
   ]
  },
  {
   "cell_type": "code",
   "execution_count": 14,
   "metadata": {},
   "outputs": [],
   "source": [
    "\"\"\" Adds a month of rides to the JSON file \"\"\"\n",
    "def add_month_of_rides(df, rides, subscriber, start_time, end_time, start_station, end_station, \n",
    "                       subscribe_convention, bike_id=None, bike_type=None):\n",
    "    # Cast start and end times to datetimes for easy accessibility\n",
    "    df[start_time] = pd.to_datetime(df[start_time], format=\"%Y-%m-%d %H:%M:%S\")\n",
    "    df[end_time] = pd.to_datetime(df[end_time], format=\"%Y-%m-%d %H:%M:%S\")\n",
    "\n",
    "    # Drop rows with null station values and cast subscriber status to binary feature\n",
    "    df = df.dropna(subset=[start_station, end_station])\n",
    "    df[subscriber] = df[subscriber].apply(lambda sub: sub == subscribe_convention).astype(int).astype(float)  # Binary: subbed or no? 1=yes, 0=no\n",
    "\n",
    "    # For every ride\n",
    "    for i in range(len(df)):\n",
    "        row = df.iloc[i]\n",
    "\n",
    "        # Validate that start_station and end_station are accounted for\n",
    "        if row[start_station] not in stations:\n",
    "            continue\n",
    "        elif row[end_station] not in stations:\n",
    "            continue\n",
    "        \n",
    "        # Extract relevant, consistent features\n",
    "        temp = {\n",
    "            \"subscribed\": row[subscriber],\n",
    "            \"start_time\":str(row[start_time]),\n",
    "            \"end_time\":str(row[end_time]),\n",
    "            \"start_station\": stations[row[start_station]],\n",
    "            \"end_station\": stations[row[end_station]]\n",
    "        }\n",
    "\n",
    "        # In certain months, extra features are available\n",
    "        # Extract those if they exist\n",
    "        if bike_id is not None:\n",
    "            temp[\"bike_id\"] = float(row[bike_id])\n",
    "        if bike_type is not None:\n",
    "            temp[\"bike_type\"] = row[bike_type]\n",
    "        \n",
    "        rides.append(temp)\n",
    "\n",
    "    return rides"
   ]
  },
  {
   "cell_type": "code",
   "execution_count": 15,
   "metadata": {},
   "outputs": [
    {
     "name": "stderr",
     "output_type": "stream",
     "text": [
      "/var/folders/j0/5vzg02dn3ln14ntm75wgfw140000gn/T/ipykernel_45010/2529466338.py:7: SettingWithCopyWarning: \n",
      "A value is trying to be set on a copy of a slice from a DataFrame.\n",
      "Try using .loc[row_indexer,col_indexer] = value instead\n",
      "\n",
      "See the caveats in the documentation: https://pandas.pydata.org/pandas-docs/stable/user_guide/indexing.html#returning-a-view-versus-a-copy\n",
      "  df[subscriber] = df[subscriber].apply(lambda sub: sub == subscribe_convention).astype(int).astype(float)  # Binary: subbed or no? 1=yes, 0=no\n"
     ]
    },
    {
     "name": "stdout",
     "output_type": "stream",
     "text": [
      "finised file: 2024 01\n"
     ]
    },
    {
     "name": "stderr",
     "output_type": "stream",
     "text": [
      "/var/folders/j0/5vzg02dn3ln14ntm75wgfw140000gn/T/ipykernel_45010/2529466338.py:7: SettingWithCopyWarning: \n",
      "A value is trying to be set on a copy of a slice from a DataFrame.\n",
      "Try using .loc[row_indexer,col_indexer] = value instead\n",
      "\n",
      "See the caveats in the documentation: https://pandas.pydata.org/pandas-docs/stable/user_guide/indexing.html#returning-a-view-versus-a-copy\n",
      "  df[subscriber] = df[subscriber].apply(lambda sub: sub == subscribe_convention).astype(int).astype(float)  # Binary: subbed or no? 1=yes, 0=no\n"
     ]
    },
    {
     "name": "stdout",
     "output_type": "stream",
     "text": [
      "finised file: 2024 02\n"
     ]
    },
    {
     "name": "stderr",
     "output_type": "stream",
     "text": [
      "/var/folders/j0/5vzg02dn3ln14ntm75wgfw140000gn/T/ipykernel_45010/2529466338.py:7: SettingWithCopyWarning: \n",
      "A value is trying to be set on a copy of a slice from a DataFrame.\n",
      "Try using .loc[row_indexer,col_indexer] = value instead\n",
      "\n",
      "See the caveats in the documentation: https://pandas.pydata.org/pandas-docs/stable/user_guide/indexing.html#returning-a-view-versus-a-copy\n",
      "  df[subscriber] = df[subscriber].apply(lambda sub: sub == subscribe_convention).astype(int).astype(float)  # Binary: subbed or no? 1=yes, 0=no\n"
     ]
    },
    {
     "name": "stdout",
     "output_type": "stream",
     "text": [
      "finised file: 2024 03\n",
      "finished year, length: 658550\n"
     ]
    }
   ],
   "source": [
    "rides = []\n",
    "\"\"\" Store 2024 ride data \"\"\"\n",
    "year = 2024\n",
    "for idx in list(range(1,4)):\n",
    "    if idx < 10:\n",
    "            idx = \"0\" + str(idx)\n",
    "    else:\n",
    "        idx = str(idx)\n",
    "    # Read in CSV file as DataFrame\n",
    "    df = pd.read_csv(f\"./bikes_data/trips_data/{year}{idx}-bluebikes-tripdata.csv\")\n",
    "    # Extract rides\n",
    "    rides = add_month_of_rides(df=df, rides=rides, subscriber=\"member_casual\",\n",
    "                            start_time=\"started_at\", end_time=\"ended_at\",\n",
    "                            start_station=\"start_station_name\",\n",
    "                            end_station=\"end_station_name\",\n",
    "                            subscribe_convention=\"member\",\n",
    "                            idx=idx, bike_id=None, bike_type=\"rideable_type\")\n",
    "    print(\"finised file: 2024\" , str(idx))\n",
    "\n",
    "print(\"finished year, length:\", str(len(rides)))\n",
    "\n",
    "# Write 2024 ride JSON file\n",
    "with open(\"rides2024.json\", \"w\") as file:\n",
    "    json.dump(rides, file)"
   ]
  },
  {
   "cell_type": "code",
   "execution_count": 17,
   "metadata": {},
   "outputs": [
    {
     "name": "stdout",
     "output_type": "stream",
     "text": [
      "finised file: 2019 01\n",
      "finised file: 2019 02\n",
      "finised file: 2019 03\n",
      "finised file: 2019 04\n",
      "finised file: 2019 05\n",
      "finised file: 2019 06\n",
      "finised file: 2019 07\n",
      "finised file: 2019 08\n",
      "finised file: 2019 09\n",
      "finised file: 2019 10\n",
      "finised file: 2019 11\n",
      "finised file: 2019 12\n",
      "finished year, length: 2522769\n",
      "finised file: 2020 01\n",
      "finised file: 2020 02\n",
      "finised file: 2020 03\n",
      "finised file: 2020 04\n",
      "finised file: 2020 05\n",
      "finised file: 2020 06\n",
      "finised file: 2020 07\n",
      "finised file: 2020 08\n",
      "finised file: 2020 09\n",
      "finised file: 2020 10\n",
      "finised file: 2020 11\n",
      "finised file: 2020 12\n",
      "finished year, length: 2073447\n",
      "finised file: 2021 01\n",
      "finised file: 2021 02\n",
      "finised file: 2021 03\n",
      "finised file: 2021 04\n",
      "finised file: 2021 05\n",
      "finised file: 2021 06\n",
      "finised file: 2021 07\n",
      "finised file: 2021 08\n",
      "finised file: 2021 09\n",
      "finised file: 2021 10\n",
      "finised file: 2021 11\n",
      "finised file: 2021 12\n",
      "finished year, length: 2934378\n",
      "finised file: 2022 01\n",
      "finised file: 2022 02\n",
      "finised file: 2022 03\n",
      "finised file: 2022 04\n",
      "finised file: 2022 05\n",
      "finised file: 2022 06\n",
      "finised file: 2022 07\n",
      "finised file: 2022 08\n",
      "finised file: 2022 09\n",
      "finised file: 2022 10\n",
      "finised file: 2022 11\n",
      "finised file: 2022 12\n",
      "finished year, length: 3757281\n",
      "finised file: 2023 01\n",
      "finised file: 2023 02\n",
      "finised file: 2023 03\n",
      "finished year, length: 492318\n"
     ]
    },
    {
     "name": "stderr",
     "output_type": "stream",
     "text": [
      "/var/folders/j0/5vzg02dn3ln14ntm75wgfw140000gn/T/ipykernel_45010/2529466338.py:7: SettingWithCopyWarning: \n",
      "A value is trying to be set on a copy of a slice from a DataFrame.\n",
      "Try using .loc[row_indexer,col_indexer] = value instead\n",
      "\n",
      "See the caveats in the documentation: https://pandas.pydata.org/pandas-docs/stable/user_guide/indexing.html#returning-a-view-versus-a-copy\n",
      "  df[subscriber] = df[subscriber].apply(lambda sub: sub == subscribe_convention).astype(int).astype(float)  # Binary: subbed or no? 1=yes, 0=no\n"
     ]
    },
    {
     "name": "stdout",
     "output_type": "stream",
     "text": [
      "finised file: 2024 04\n"
     ]
    },
    {
     "name": "stderr",
     "output_type": "stream",
     "text": [
      "/var/folders/j0/5vzg02dn3ln14ntm75wgfw140000gn/T/ipykernel_45010/2529466338.py:7: SettingWithCopyWarning: \n",
      "A value is trying to be set on a copy of a slice from a DataFrame.\n",
      "Try using .loc[row_indexer,col_indexer] = value instead\n",
      "\n",
      "See the caveats in the documentation: https://pandas.pydata.org/pandas-docs/stable/user_guide/indexing.html#returning-a-view-versus-a-copy\n",
      "  df[subscriber] = df[subscriber].apply(lambda sub: sub == subscribe_convention).astype(int).astype(float)  # Binary: subbed or no? 1=yes, 0=no\n"
     ]
    },
    {
     "name": "stdout",
     "output_type": "stream",
     "text": [
      "finised file: 2024 05\n"
     ]
    },
    {
     "name": "stderr",
     "output_type": "stream",
     "text": [
      "/var/folders/j0/5vzg02dn3ln14ntm75wgfw140000gn/T/ipykernel_45010/2529466338.py:7: SettingWithCopyWarning: \n",
      "A value is trying to be set on a copy of a slice from a DataFrame.\n",
      "Try using .loc[row_indexer,col_indexer] = value instead\n",
      "\n",
      "See the caveats in the documentation: https://pandas.pydata.org/pandas-docs/stable/user_guide/indexing.html#returning-a-view-versus-a-copy\n",
      "  df[subscriber] = df[subscriber].apply(lambda sub: sub == subscribe_convention).astype(int).astype(float)  # Binary: subbed or no? 1=yes, 0=no\n"
     ]
    },
    {
     "name": "stdout",
     "output_type": "stream",
     "text": [
      "finised file: 2024 06\n"
     ]
    },
    {
     "name": "stderr",
     "output_type": "stream",
     "text": [
      "/var/folders/j0/5vzg02dn3ln14ntm75wgfw140000gn/T/ipykernel_45010/2529466338.py:7: SettingWithCopyWarning: \n",
      "A value is trying to be set on a copy of a slice from a DataFrame.\n",
      "Try using .loc[row_indexer,col_indexer] = value instead\n",
      "\n",
      "See the caveats in the documentation: https://pandas.pydata.org/pandas-docs/stable/user_guide/indexing.html#returning-a-view-versus-a-copy\n",
      "  df[subscriber] = df[subscriber].apply(lambda sub: sub == subscribe_convention).astype(int).astype(float)  # Binary: subbed or no? 1=yes, 0=no\n"
     ]
    },
    {
     "name": "stdout",
     "output_type": "stream",
     "text": [
      "finised file: 2024 07\n"
     ]
    },
    {
     "name": "stderr",
     "output_type": "stream",
     "text": [
      "/var/folders/j0/5vzg02dn3ln14ntm75wgfw140000gn/T/ipykernel_45010/2529466338.py:7: SettingWithCopyWarning: \n",
      "A value is trying to be set on a copy of a slice from a DataFrame.\n",
      "Try using .loc[row_indexer,col_indexer] = value instead\n",
      "\n",
      "See the caveats in the documentation: https://pandas.pydata.org/pandas-docs/stable/user_guide/indexing.html#returning-a-view-versus-a-copy\n",
      "  df[subscriber] = df[subscriber].apply(lambda sub: sub == subscribe_convention).astype(int).astype(float)  # Binary: subbed or no? 1=yes, 0=no\n"
     ]
    },
    {
     "name": "stdout",
     "output_type": "stream",
     "text": [
      "finised file: 2024 08\n"
     ]
    },
    {
     "name": "stderr",
     "output_type": "stream",
     "text": [
      "/var/folders/j0/5vzg02dn3ln14ntm75wgfw140000gn/T/ipykernel_45010/2529466338.py:7: SettingWithCopyWarning: \n",
      "A value is trying to be set on a copy of a slice from a DataFrame.\n",
      "Try using .loc[row_indexer,col_indexer] = value instead\n",
      "\n",
      "See the caveats in the documentation: https://pandas.pydata.org/pandas-docs/stable/user_guide/indexing.html#returning-a-view-versus-a-copy\n",
      "  df[subscriber] = df[subscriber].apply(lambda sub: sub == subscribe_convention).astype(int).astype(float)  # Binary: subbed or no? 1=yes, 0=no\n"
     ]
    },
    {
     "name": "stdout",
     "output_type": "stream",
     "text": [
      "finised file: 2024 09\n"
     ]
    },
    {
     "name": "stderr",
     "output_type": "stream",
     "text": [
      "/var/folders/j0/5vzg02dn3ln14ntm75wgfw140000gn/T/ipykernel_45010/2529466338.py:7: SettingWithCopyWarning: \n",
      "A value is trying to be set on a copy of a slice from a DataFrame.\n",
      "Try using .loc[row_indexer,col_indexer] = value instead\n",
      "\n",
      "See the caveats in the documentation: https://pandas.pydata.org/pandas-docs/stable/user_guide/indexing.html#returning-a-view-versus-a-copy\n",
      "  df[subscriber] = df[subscriber].apply(lambda sub: sub == subscribe_convention).astype(int).astype(float)  # Binary: subbed or no? 1=yes, 0=no\n"
     ]
    },
    {
     "name": "stdout",
     "output_type": "stream",
     "text": [
      "finised file: 2024 10\n"
     ]
    },
    {
     "name": "stderr",
     "output_type": "stream",
     "text": [
      "/var/folders/j0/5vzg02dn3ln14ntm75wgfw140000gn/T/ipykernel_45010/2529466338.py:7: SettingWithCopyWarning: \n",
      "A value is trying to be set on a copy of a slice from a DataFrame.\n",
      "Try using .loc[row_indexer,col_indexer] = value instead\n",
      "\n",
      "See the caveats in the documentation: https://pandas.pydata.org/pandas-docs/stable/user_guide/indexing.html#returning-a-view-versus-a-copy\n",
      "  df[subscriber] = df[subscriber].apply(lambda sub: sub == subscribe_convention).astype(int).astype(float)  # Binary: subbed or no? 1=yes, 0=no\n"
     ]
    },
    {
     "name": "stdout",
     "output_type": "stream",
     "text": [
      "finised file: 2024 11\n"
     ]
    },
    {
     "name": "stderr",
     "output_type": "stream",
     "text": [
      "/var/folders/j0/5vzg02dn3ln14ntm75wgfw140000gn/T/ipykernel_45010/2529466338.py:7: SettingWithCopyWarning: \n",
      "A value is trying to be set on a copy of a slice from a DataFrame.\n",
      "Try using .loc[row_indexer,col_indexer] = value instead\n",
      "\n",
      "See the caveats in the documentation: https://pandas.pydata.org/pandas-docs/stable/user_guide/indexing.html#returning-a-view-versus-a-copy\n",
      "  df[subscriber] = df[subscriber].apply(lambda sub: sub == subscribe_convention).astype(int).astype(float)  # Binary: subbed or no? 1=yes, 0=no\n"
     ]
    },
    {
     "name": "stdout",
     "output_type": "stream",
     "text": [
      "finised file: 2024 12\n",
      "finished year, length: 3183627\n"
     ]
    }
   ],
   "source": [
    "\"\"\" Store ride data from 2019 to April 2023 (architecture changes 04/2023)\"\"\"\n",
    "rides = []\n",
    "for year in [2019, 2020, 2021, 2022, 2023]:\n",
    "    # For each month of the year\n",
    "    for idx in list(range(1,13)):\n",
    "        if year == 2023 and idx == 4:  # Headers change starting in 04/2023\n",
    "            break\n",
    "        if idx < 10:\n",
    "            idx = \"0\" + str(idx)\n",
    "        else:\n",
    "            idx = str(idx)\n",
    "        # Read in CSV file as DataFrame\n",
    "        df = pd.read_csv(f\"./bikes_data/trips_data/{year}{idx}-bluebikes-tripdata.csv\")\n",
    "        # Extract ride data\n",
    "        rides = add_month_of_rides(df=df, rides=rides, subscriber=\"usertype\",\n",
    "                                start_time=\"starttime\", end_time=\"stoptime\",\n",
    "                                start_station=\"start station name\",\n",
    "                                end_station=\"end station name\",\n",
    "                                subscribe_convention=\"Subscriber\",\n",
    "                                idx=idx, bike_id=\"bikeid\")\n",
    "        print(\"finised file:\", str(year) , str(idx))\n",
    "        \n",
    "    print(\"finished year, length:\", str(len(rides)))\n",
    "    # Write {year} ride JSON file\n",
    "    with open(\"rides\"+str(year)+\".json\", \"w\") as file:\n",
    "        json.dump(rides, file)\n",
    "    rides=[]\n",
    "        \n",
    "\n",
    "\"\"\" Read in remaining 2023 data (post-April architecture change) \"\"\"\n",
    "year = 2023\n",
    "# For each month April - December\n",
    "for idx in list(range(4,13)):\n",
    "    if idx < 10:\n",
    "            idx = \"0\" + str(idx)\n",
    "    else:\n",
    "        idx = str(idx)\n",
    "    # Read in CSV file as DataFrame\n",
    "    df = pd.read_csv(f\"./bikes_data/trips_data/{year}{idx}-bluebikes-tripdata.csv\")\n",
    "    # Extract ride data\n",
    "    rides = add_month_of_rides(df=df, rides=rides, subscriber=\"member_casual\",\n",
    "                            start_time=\"started_at\", end_time=\"ended_at\",\n",
    "                            start_station=\"start_station_name\",\n",
    "                            end_station=\"end_station_name\",\n",
    "                            subscribe_convention=\"member\",\n",
    "                            idx=idx, bike_id=None, bike_type=\"rideable_type\")\n",
    "    print(\"finised file: 2024\" , str(idx))\n",
    "\n",
    "print(\"finished year, length:\", str(len(rides)))\n",
    "# Write 2023 part 2 ride JSON file\n",
    "with open(\"rides2023_2.json\", \"w\") as file:\n",
    "    json.dump(rides, file)\n",
    "rides=[]"
   ]
  }
 ],
 "metadata": {
  "kernelspec": {
   "display_name": "Python 3",
   "language": "python",
   "name": "python3"
  },
  "language_info": {
   "codemirror_mode": {
    "name": "ipython",
    "version": 3
   },
   "file_extension": ".py",
   "mimetype": "text/x-python",
   "name": "python",
   "nbconvert_exporter": "python",
   "pygments_lexer": "ipython3",
   "version": "3.9.6"
  },
  "orig_nbformat": 4,
  "vscode": {
   "interpreter": {
    "hash": "31f2aee4e71d21fbe5cf8b01ff0e069b9275f58929596ceb00d14d90e3e16cd6"
   }
  }
 },
 "nbformat": 4,
 "nbformat_minor": 2
}
