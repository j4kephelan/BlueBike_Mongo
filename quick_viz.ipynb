{
 "cells": [
  {
   "cell_type": "code",
   "execution_count": 2,
   "metadata": {},
   "outputs": [],
   "source": [
    "import pandas as pd\n",
    "import altair as alt"
   ]
  },
  {
   "cell_type": "code",
   "execution_count": 21,
   "metadata": {},
   "outputs": [
    {
     "data": {
      "text/html": [
       "\n",
       "<div id=\"altair-viz-fcdb41e3dd184ab9886ec0f0e0f7989f\"></div>\n",
       "<script type=\"text/javascript\">\n",
       "  var VEGA_DEBUG = (typeof VEGA_DEBUG == \"undefined\") ? {} : VEGA_DEBUG;\n",
       "  (function(spec, embedOpt){\n",
       "    let outputDiv = document.currentScript.previousElementSibling;\n",
       "    if (outputDiv.id !== \"altair-viz-fcdb41e3dd184ab9886ec0f0e0f7989f\") {\n",
       "      outputDiv = document.getElementById(\"altair-viz-fcdb41e3dd184ab9886ec0f0e0f7989f\");\n",
       "    }\n",
       "    const paths = {\n",
       "      \"vega\": \"https://cdn.jsdelivr.net/npm/vega@5?noext\",\n",
       "      \"vega-lib\": \"https://cdn.jsdelivr.net/npm/vega-lib?noext\",\n",
       "      \"vega-lite\": \"https://cdn.jsdelivr.net/npm/vega-lite@5.6.1?noext\",\n",
       "      \"vega-embed\": \"https://cdn.jsdelivr.net/npm/vega-embed@6?noext\",\n",
       "    };\n",
       "\n",
       "    function maybeLoadScript(lib, version) {\n",
       "      var key = `${lib.replace(\"-\", \"\")}_version`;\n",
       "      return (VEGA_DEBUG[key] == version) ?\n",
       "        Promise.resolve(paths[lib]) :\n",
       "        new Promise(function(resolve, reject) {\n",
       "          var s = document.createElement('script');\n",
       "          document.getElementsByTagName(\"head\")[0].appendChild(s);\n",
       "          s.async = true;\n",
       "          s.onload = () => {\n",
       "            VEGA_DEBUG[key] = version;\n",
       "            return resolve(paths[lib]);\n",
       "          };\n",
       "          s.onerror = () => reject(`Error loading script: ${paths[lib]}`);\n",
       "          s.src = paths[lib];\n",
       "        });\n",
       "    }\n",
       "\n",
       "    function showError(err) {\n",
       "      outputDiv.innerHTML = `<div class=\"error\" style=\"color:red;\">${err}</div>`;\n",
       "      throw err;\n",
       "    }\n",
       "\n",
       "    function displayChart(vegaEmbed) {\n",
       "      vegaEmbed(outputDiv, spec, embedOpt)\n",
       "        .catch(err => showError(`Javascript Error: ${err.message}<br>This usually means there's a typo in your chart specification. See the javascript console for the full traceback.`));\n",
       "    }\n",
       "\n",
       "    if(typeof define === \"function\" && define.amd) {\n",
       "      requirejs.config({paths});\n",
       "      require([\"vega-embed\"], displayChart, err => showError(`Error loading script: ${err.message}`));\n",
       "    } else {\n",
       "      maybeLoadScript(\"vega\", \"5\")\n",
       "        .then(() => maybeLoadScript(\"vega-lite\", \"5.6.1\"))\n",
       "        .then(() => maybeLoadScript(\"vega-embed\", \"6\"))\n",
       "        .catch(showError)\n",
       "        .then(() => displayChart(vegaEmbed));\n",
       "    }\n",
       "  })({\"config\": {\"view\": {\"continuousWidth\": 300, \"continuousHeight\": 300}}, \"data\": {\"name\": \"data-b8dd7fbf3281830c9c06d920efa823ac\"}, \"mark\": {\"type\": \"bar\", \"size\": 45}, \"encoding\": {\"color\": {\"field\": \"labels\", \"legend\": null, \"scale\": {\"domain\": [\"Total Duration\", \"# of Rides\", \"# Cross-Muncipality\", \"Fleet Presence\"], \"range\": [\"#4285f4\", \"#4285f4\", \"#4285f4\", \"#ffab40\"]}, \"type\": \"nominal\"}, \"x\": {\"axis\": {\"labelAngle\": 0, \"title\": \"Categories\"}, \"field\": \"labels\", \"sort\": \"y\", \"type\": \"nominal\"}, \"y\": {\"axis\": {\"title\": \"% Accounted for by Electric Bikes\"}, \"field\": \"data\", \"scale\": {\"domain\": [0, 29]}, \"type\": \"quantitative\"}}, \"title\": {\"text\": \"Electric Bikes Outperforming Fleet Presence\", \"subtitle\": \"12/2023 - 03/2024\"}, \"width\": 320, \"$schema\": \"https://vega.github.io/schema/vega-lite/v5.6.1.json\", \"datasets\": {\"data-b8dd7fbf3281830c9c06d920efa823ac\": [{\"labels\": \"Total Duration\", \"data\": 20.34076086}, {\"labels\": \"# of Rides\", \"data\": 25.69639499}, {\"labels\": \"# Cross-Muncipality\", \"data\": 27.9048742}, {\"labels\": \"Fleet Presence\", \"data\": 15.78947368}]}}, {\"mode\": \"vega-lite\"});\n",
       "</script>"
      ],
      "text/plain": [
       "alt.Chart(...)"
      ]
     },
     "execution_count": 21,
     "metadata": {},
     "output_type": "execute_result"
    }
   ],
   "source": [
    "eletric_v_classic_2 = {\"labels\": [\"Total Duration\", \"# of Rides\", \"# Cross-Muncipality\", \"Fleet Presence\"],\n",
    "                    \"data\": [20.34076086, 25.69639499, 27.9048742, 15.78947368]}\n",
    "\n",
    "df_2 = pd.DataFrame(eletric_v_classic_2)\n",
    "\n",
    "domain = [\"Total Duration\", \"# of Rides\", \"# Cross-Muncipality\", \"Fleet Presence\"]\n",
    "_range = [\"#4285f4\", \"#4285f4\", \"#4285f4\", '#ffab40']\n",
    "\n",
    "base_2 = alt.Chart(df_2).mark_bar(size=45).encode(\n",
    "    x = alt.X(\"labels:N\", axis=alt.Axis(labelAngle=0, title=\"Categories\")).sort(\"y\"),\n",
    "    y = alt.Y(\"data:Q\", axis=alt.Axis(title=\"% Accounted for by Electric Bikes\"), scale=alt.Scale(domain=[0, 29])),\n",
    "    color = alt.Color(\"labels:N\", legend=None).scale(domain=domain, range=_range)\n",
    ").properties(\n",
    "    title={\"text\": \"Electric Bikes Outperforming Fleet Presence\",\n",
    "           \"subtitle\": \"12/2023 - 03/2024\"},\n",
    "    width=320\n",
    ")\n",
    "\n",
    "base_2"
   ]
  }
 ],
 "metadata": {
  "kernelspec": {
   "display_name": "Python 3",
   "language": "python",
   "name": "python3"
  },
  "language_info": {
   "codemirror_mode": {
    "name": "ipython",
    "version": 3
   },
   "file_extension": ".py",
   "mimetype": "text/x-python",
   "name": "python",
   "nbconvert_exporter": "python",
   "pygments_lexer": "ipython3",
   "version": "3.8.8"
  },
  "orig_nbformat": 4,
  "vscode": {
   "interpreter": {
    "hash": "6b69ae3e2834c9746d2b1413447160a110a0d600129906ecd99a86c6908c3b34"
   }
  }
 },
 "nbformat": 4,
 "nbformat_minor": 2
}
