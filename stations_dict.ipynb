{
 "cells": [
  {
   "cell_type": "code",
   "execution_count": 62,
   "metadata": {},
   "outputs": [],
   "source": [
    "import pandas as pd\n",
    "import json"
   ]
  },
  {
   "cell_type": "code",
   "execution_count": 63,
   "metadata": {},
   "outputs": [
    {
     "name": "stdout",
     "output_type": "stream",
     "text": [
      "<class 'pandas.core.frame.DataFrame'>\n",
      "RangeIndex: 483 entries, 0 to 482\n",
      "Data columns (total 7 columns):\n",
      " #   Column           Non-Null Count  Dtype  \n",
      "---  ------           --------------  -----  \n",
      " 0   Number           483 non-null    object \n",
      " 1   NAME             483 non-null    object \n",
      " 2   Lat              483 non-null    float64\n",
      " 3   Long             483 non-null    float64\n",
      " 4   Seasonal Status  483 non-null    object \n",
      " 5   Municipality     483 non-null    object \n",
      " 6   Total Docks      483 non-null    int64  \n",
      "dtypes: float64(2), int64(1), object(4)\n",
      "memory usage: 26.5+ KB\n"
     ]
    }
   ],
   "source": [
    "df = pd.read_csv(\"./bikes_data/station_data/current_bluebikes_stations.csv\", skiprows=[0])\n",
    "df[\"Total Docks\"] = df[\"Total Docks\"].astype(int)\n",
    "df.info()"
   ]
  },
  {
   "cell_type": "code",
   "execution_count": 64,
   "metadata": {},
   "outputs": [],
   "source": [
    "stations_dict = {}\n",
    "\n",
    "for i in range(len(df)):\n",
    "    row = df.iloc[i]\n",
    "    temp_name = row[\"NAME\"]\n",
    "    temp = {\n",
    "    \"name\": temp_name,\n",
    "    \"lat\":row[\"Lat\"],\n",
    "    \"lon\":row[\"Long\"], \n",
    "\n",
    "    \"municipality\":row[\"Municipality\"],\n",
    "    \"total_docks\":row[\"Total Docks\"],\n",
    "    \"seasonal_status\":row[\"Seasonal Status\"]}\n",
    "\n",
    "    stations_dict[temp_name] = temp"
   ]
  },
  {
   "cell_type": "code",
   "execution_count": 65,
   "metadata": {},
   "outputs": [],
   "source": [
    "def add_missing_stations(df, start_station_name, end_station_name, start_lat, start_lon, end_lat, end_lon, stations_dict):\n",
    "    for i in range(len(df)):\n",
    "        row = df.iloc[i]\n",
    "        start_station = row[start_station_name]\n",
    "\n",
    "        if start_station not in stations_dict:\n",
    "            temp = {\n",
    "                \"name\":start_station,\n",
    "                \"lon\": row[start_lon],\n",
    "                \"lat\": row[start_lat]\n",
    "            }\n",
    "            stations_dict[start_station] = temp\n",
    "\n",
    "        end_station = row[end_station_name]\n",
    "        if start_station not in stations_dict:\n",
    "            temp = {\n",
    "                \"name\":end_station,\n",
    "                \"lon\": row[end_lon],\n",
    "                \"lat\": row[end_lat]\n",
    "            }\n",
    "            stations_dict[start_station] = temp\n",
    "\n",
    "    \n",
    "    return stations_dict\n"
   ]
  },
  {
   "cell_type": "code",
   "execution_count": 66,
   "metadata": {},
   "outputs": [
    {
     "ename": "TypeError",
     "evalue": "add_missing_stations() missing 2 required positional arguments: 'start_id' and 'end_id'",
     "output_type": "error",
     "traceback": [
      "\u001b[0;31m---------------------------------------------------------------------------\u001b[0m",
      "\u001b[0;31mTypeError\u001b[0m                                 Traceback (most recent call last)",
      "Cell \u001b[0;32mIn[66], line 8\u001b[0m\n\u001b[1;32m      5\u001b[0m data_2024 \u001b[39m=\u001b[39m [df_2024_01, df_2024_02, df_2024_03]\n\u001b[1;32m      7\u001b[0m \u001b[39mfor\u001b[39;00m df \u001b[39min\u001b[39;00m data_2024:\n\u001b[0;32m----> 8\u001b[0m     stations_dict \u001b[39m=\u001b[39m add_missing_stations(df\u001b[39m=\u001b[39;49mdf, start_station_name\u001b[39m=\u001b[39;49m\u001b[39m\"\u001b[39;49m\u001b[39mstart_station_name\u001b[39;49m\u001b[39m\"\u001b[39;49m, end_station_name\u001b[39m=\u001b[39;49m\u001b[39m\"\u001b[39;49m\u001b[39mend_station_name\u001b[39;49m\u001b[39m\"\u001b[39;49m, \n\u001b[1;32m      9\u001b[0m                                            start_lat\u001b[39m=\u001b[39;49m\u001b[39m\"\u001b[39;49m\u001b[39mstart_lat\u001b[39;49m\u001b[39m\"\u001b[39;49m, start_lon\u001b[39m=\u001b[39;49m\u001b[39m\"\u001b[39;49m\u001b[39mstart_lng\u001b[39;49m\u001b[39m\"\u001b[39;49m,\n\u001b[1;32m     10\u001b[0m                                           end_lat\u001b[39m=\u001b[39;49m\u001b[39m\"\u001b[39;49m\u001b[39mend_lat\u001b[39;49m\u001b[39m\"\u001b[39;49m, end_lon\u001b[39m=\u001b[39;49m\u001b[39m\"\u001b[39;49m\u001b[39mend_lng\u001b[39;49m\u001b[39m\"\u001b[39;49m, stations_dict\u001b[39m=\u001b[39;49mstations_dict)\n\u001b[1;32m     11\u001b[0m \u001b[39mfor\u001b[39;00m idx \u001b[39min\u001b[39;00m \u001b[39mlist\u001b[39m(\u001b[39mrange\u001b[39m(\u001b[39m4\u001b[39m,\u001b[39m13\u001b[39m)):\n\u001b[1;32m     12\u001b[0m     \u001b[39mif\u001b[39;00m idx \u001b[39m<\u001b[39m \u001b[39m10\u001b[39m:\n",
      "\u001b[0;31mTypeError\u001b[0m: add_missing_stations() missing 2 required positional arguments: 'start_id' and 'end_id'"
     ]
    }
   ],
   "source": [
    "df_2024_01 = pd.read_csv(\"./bikes_data/trips_data/202401-bluebikes-tripdata.csv\")\n",
    "df_2024_02 = pd.read_csv(\"./bikes_data/trips_data/202402-bluebikes-tripdata.csv\")\n",
    "df_2024_03 = pd.read_csv(\"./bikes_data/trips_data/202403-bluebikes-tripdata.csv\")\n",
    "\n",
    "data_2024 = [df_2024_01, df_2024_02, df_2024_03]\n",
    "\n",
    "for df in data_2024:\n",
    "    stations_dict = add_missing_stations(df=df, start_station_name=\"start_station_name\", end_station_name=\"end_station_name\", \n",
    "                                           start_lat=\"start_lat\", start_lon=\"start_lng\",\n",
    "                                          end_lat=\"end_lat\", end_lon=\"end_lng\", stations_dict=stations_dict)\n",
    "for idx in list(range(4,13)):\n",
    "    if idx < 10:\n",
    "        idx = \"0\" + str(idx)\n",
    "    else:\n",
    "        idx = str(idx)\n",
    "    df = pd.read_csv(f\"./bikes_data/trips_data/2023{idx}-bluebikes-tripdata.csv\")\n",
    "    print(idx)\n",
    "    stations_dict = add_missing_stations(df=df, start_station_name=\"start_station_name\", end_station_name=\"end_station_name\", \n",
    "                                          start_lat=\"start_lat\", start_lon=\"start_lng\",\n",
    "                                          end_lat=\"end_lat\", end_lon=\"end_lng\", stations_dict=stations_dict)\n"
   ]
  },
  {
   "cell_type": "code",
   "execution_count": null,
   "metadata": {},
   "outputs": [
    {
     "name": "stdout",
     "output_type": "stream",
     "text": [
      "<class 'pandas.core.frame.DataFrame'>\n",
      "RangeIndex: 140340 entries, 0 to 140339\n",
      "Data columns (total 14 columns):\n",
      " #   Column                   Non-Null Count   Dtype  \n",
      "---  ------                   --------------   -----  \n",
      " 0   tripduration             140340 non-null  int64  \n",
      " 1   starttime                140340 non-null  object \n",
      " 2   stoptime                 140340 non-null  object \n",
      " 3   start station id         140340 non-null  int64  \n",
      " 4   start station name       140340 non-null  object \n",
      " 5   start station latitude   140340 non-null  float64\n",
      " 6   start station longitude  140340 non-null  float64\n",
      " 7   end station id           140340 non-null  int64  \n",
      " 8   end station name         140340 non-null  object \n",
      " 9   end station latitude     140340 non-null  float64\n",
      " 10  end station longitude    140340 non-null  float64\n",
      " 11  bikeid                   140340 non-null  int64  \n",
      " 12  usertype                 140340 non-null  object \n",
      " 13  postal code              131990 non-null  object \n",
      "dtypes: float64(4), int64(4), object(6)\n",
      "memory usage: 15.0+ MB\n",
      "None\n",
      "01\n",
      "<class 'pandas.core.frame.DataFrame'>\n",
      "RangeIndex: 152975 entries, 0 to 152974\n",
      "Data columns (total 14 columns):\n",
      " #   Column                   Non-Null Count   Dtype  \n",
      "---  ------                   --------------   -----  \n",
      " 0   tripduration             152975 non-null  int64  \n",
      " 1   starttime                152975 non-null  object \n",
      " 2   stoptime                 152975 non-null  object \n",
      " 3   start station id         152975 non-null  int64  \n",
      " 4   start station name       152975 non-null  object \n",
      " 5   start station latitude   152975 non-null  float64\n",
      " 6   start station longitude  152975 non-null  float64\n",
      " 7   end station id           152975 non-null  int64  \n",
      " 8   end station name         152975 non-null  object \n",
      " 9   end station latitude     152975 non-null  float64\n",
      " 10  end station longitude    152975 non-null  float64\n",
      " 11  bikeid                   152975 non-null  int64  \n",
      " 12  usertype                 152975 non-null  object \n",
      " 13  postal code              143279 non-null  object \n",
      "dtypes: float64(4), int64(4), object(6)\n",
      "memory usage: 16.3+ MB\n",
      "None\n",
      "02\n",
      "<class 'pandas.core.frame.DataFrame'>\n",
      "RangeIndex: 199003 entries, 0 to 199002\n",
      "Data columns (total 14 columns):\n",
      " #   Column                   Non-Null Count   Dtype  \n",
      "---  ------                   --------------   -----  \n",
      " 0   tripduration             199003 non-null  int64  \n",
      " 1   starttime                199003 non-null  object \n",
      " 2   stoptime                 199003 non-null  object \n",
      " 3   start station id         199003 non-null  int64  \n",
      " 4   start station name       199003 non-null  object \n",
      " 5   start station latitude   199003 non-null  float64\n",
      " 6   start station longitude  199003 non-null  float64\n",
      " 7   end station id           199003 non-null  int64  \n",
      " 8   end station name         199003 non-null  object \n",
      " 9   end station latitude     199003 non-null  float64\n",
      " 10  end station longitude    199003 non-null  float64\n",
      " 11  bikeid                   199003 non-null  int64  \n",
      " 12  usertype                 199003 non-null  object \n",
      " 13  postal code              184989 non-null  object \n",
      "dtypes: float64(4), int64(4), object(6)\n",
      "memory usage: 21.3+ MB\n",
      "None\n",
      "03\n"
     ]
    }
   ],
   "source": [
    "for idx in list(range(1,4)):\n",
    "    if idx < 10:\n",
    "        idx = \"0\" + str(idx)\n",
    "    else:\n",
    "        idx = str(idx)\n",
    "    df = pd.read_csv(f\"./bikes_data/trips_data/2023{idx}-bluebikes-tripdata.csv\")\n",
    "    print(df.info())\n",
    "    print(idx)\n",
    "    stations_dict = add_missing_stations(df=df, start_station_name=\"start station name\", end_station_name=\"end station name\", \n",
    "                                          start_lat=\"start station latitude\", start_lon=\"start station longitude\", \n",
    "                                          end_lat=\"end station latitude\", end_lon=\"end station longitude\", stations_dict=stations_dict)\n"
   ]
  },
  {
   "cell_type": "code",
   "execution_count": null,
   "metadata": {},
   "outputs": [
    {
     "ename": "TypeError",
     "evalue": "Object of type int64 is not JSON serializable",
     "output_type": "error",
     "traceback": [
      "\u001b[0;31m---------------------------------------------------------------------------\u001b[0m",
      "\u001b[0;31mTypeError\u001b[0m                                 Traceback (most recent call last)",
      "Cell \u001b[0;32mIn[60], line 2\u001b[0m\n\u001b[1;32m      1\u001b[0m \u001b[39mwith\u001b[39;00m \u001b[39mopen\u001b[39m(\u001b[39m\"\u001b[39m\u001b[39mstations.json\u001b[39m\u001b[39m\"\u001b[39m, \u001b[39m\"\u001b[39m\u001b[39mw\u001b[39m\u001b[39m\"\u001b[39m) \u001b[39mas\u001b[39;00m file:\n\u001b[0;32m----> 2\u001b[0m     json\u001b[39m.\u001b[39;49mdump(stations_dict, file)\n",
      "File \u001b[0;32m/Library/Developer/CommandLineTools/Library/Frameworks/Python3.framework/Versions/3.9/lib/python3.9/json/__init__.py:179\u001b[0m, in \u001b[0;36mdump\u001b[0;34m(obj, fp, skipkeys, ensure_ascii, check_circular, allow_nan, cls, indent, separators, default, sort_keys, **kw)\u001b[0m\n\u001b[1;32m    173\u001b[0m     iterable \u001b[39m=\u001b[39m \u001b[39mcls\u001b[39m(skipkeys\u001b[39m=\u001b[39mskipkeys, ensure_ascii\u001b[39m=\u001b[39mensure_ascii,\n\u001b[1;32m    174\u001b[0m         check_circular\u001b[39m=\u001b[39mcheck_circular, allow_nan\u001b[39m=\u001b[39mallow_nan, indent\u001b[39m=\u001b[39mindent,\n\u001b[1;32m    175\u001b[0m         separators\u001b[39m=\u001b[39mseparators,\n\u001b[1;32m    176\u001b[0m         default\u001b[39m=\u001b[39mdefault, sort_keys\u001b[39m=\u001b[39msort_keys, \u001b[39m*\u001b[39m\u001b[39m*\u001b[39mkw)\u001b[39m.\u001b[39miterencode(obj)\n\u001b[1;32m    177\u001b[0m \u001b[39m# could accelerate with writelines in some versions of Python, at\u001b[39;00m\n\u001b[1;32m    178\u001b[0m \u001b[39m# a debuggability cost\u001b[39;00m\n\u001b[0;32m--> 179\u001b[0m \u001b[39mfor\u001b[39;00m chunk \u001b[39min\u001b[39;00m iterable:\n\u001b[1;32m    180\u001b[0m     fp\u001b[39m.\u001b[39mwrite(chunk)\n",
      "File \u001b[0;32m/Library/Developer/CommandLineTools/Library/Frameworks/Python3.framework/Versions/3.9/lib/python3.9/json/encoder.py:431\u001b[0m, in \u001b[0;36m_make_iterencode.<locals>._iterencode\u001b[0;34m(o, _current_indent_level)\u001b[0m\n\u001b[1;32m    429\u001b[0m     \u001b[39myield from\u001b[39;00m _iterencode_list(o, _current_indent_level)\n\u001b[1;32m    430\u001b[0m \u001b[39melif\u001b[39;00m \u001b[39misinstance\u001b[39m(o, \u001b[39mdict\u001b[39m):\n\u001b[0;32m--> 431\u001b[0m     \u001b[39myield from\u001b[39;00m _iterencode_dict(o, _current_indent_level)\n\u001b[1;32m    432\u001b[0m \u001b[39melse\u001b[39;00m:\n\u001b[1;32m    433\u001b[0m     \u001b[39mif\u001b[39;00m markers \u001b[39mis\u001b[39;00m \u001b[39mnot\u001b[39;00m \u001b[39mNone\u001b[39;00m:\n",
      "File \u001b[0;32m/Library/Developer/CommandLineTools/Library/Frameworks/Python3.framework/Versions/3.9/lib/python3.9/json/encoder.py:405\u001b[0m, in \u001b[0;36m_make_iterencode.<locals>._iterencode_dict\u001b[0;34m(dct, _current_indent_level)\u001b[0m\n\u001b[1;32m    403\u001b[0m         \u001b[39melse\u001b[39;00m:\n\u001b[1;32m    404\u001b[0m             chunks \u001b[39m=\u001b[39m _iterencode(value, _current_indent_level)\n\u001b[0;32m--> 405\u001b[0m         \u001b[39myield from\u001b[39;00m chunks\n\u001b[1;32m    406\u001b[0m \u001b[39mif\u001b[39;00m newline_indent \u001b[39mis\u001b[39;00m \u001b[39mnot\u001b[39;00m \u001b[39mNone\u001b[39;00m:\n\u001b[1;32m    407\u001b[0m     _current_indent_level \u001b[39m-\u001b[39m\u001b[39m=\u001b[39m \u001b[39m1\u001b[39m\n",
      "File \u001b[0;32m/Library/Developer/CommandLineTools/Library/Frameworks/Python3.framework/Versions/3.9/lib/python3.9/json/encoder.py:405\u001b[0m, in \u001b[0;36m_make_iterencode.<locals>._iterencode_dict\u001b[0;34m(dct, _current_indent_level)\u001b[0m\n\u001b[1;32m    403\u001b[0m         \u001b[39melse\u001b[39;00m:\n\u001b[1;32m    404\u001b[0m             chunks \u001b[39m=\u001b[39m _iterencode(value, _current_indent_level)\n\u001b[0;32m--> 405\u001b[0m         \u001b[39myield from\u001b[39;00m chunks\n\u001b[1;32m    406\u001b[0m \u001b[39mif\u001b[39;00m newline_indent \u001b[39mis\u001b[39;00m \u001b[39mnot\u001b[39;00m \u001b[39mNone\u001b[39;00m:\n\u001b[1;32m    407\u001b[0m     _current_indent_level \u001b[39m-\u001b[39m\u001b[39m=\u001b[39m \u001b[39m1\u001b[39m\n",
      "File \u001b[0;32m/Library/Developer/CommandLineTools/Library/Frameworks/Python3.framework/Versions/3.9/lib/python3.9/json/encoder.py:438\u001b[0m, in \u001b[0;36m_make_iterencode.<locals>._iterencode\u001b[0;34m(o, _current_indent_level)\u001b[0m\n\u001b[1;32m    436\u001b[0m         \u001b[39mraise\u001b[39;00m \u001b[39mValueError\u001b[39;00m(\u001b[39m\"\u001b[39m\u001b[39mCircular reference detected\u001b[39m\u001b[39m\"\u001b[39m)\n\u001b[1;32m    437\u001b[0m     markers[markerid] \u001b[39m=\u001b[39m o\n\u001b[0;32m--> 438\u001b[0m o \u001b[39m=\u001b[39m _default(o)\n\u001b[1;32m    439\u001b[0m \u001b[39myield from\u001b[39;00m _iterencode(o, _current_indent_level)\n\u001b[1;32m    440\u001b[0m \u001b[39mif\u001b[39;00m markers \u001b[39mis\u001b[39;00m \u001b[39mnot\u001b[39;00m \u001b[39mNone\u001b[39;00m:\n",
      "File \u001b[0;32m/Library/Developer/CommandLineTools/Library/Frameworks/Python3.framework/Versions/3.9/lib/python3.9/json/encoder.py:179\u001b[0m, in \u001b[0;36mJSONEncoder.default\u001b[0;34m(self, o)\u001b[0m\n\u001b[1;32m    160\u001b[0m \u001b[39mdef\u001b[39;00m \u001b[39mdefault\u001b[39m(\u001b[39mself\u001b[39m, o):\n\u001b[1;32m    161\u001b[0m \u001b[39m    \u001b[39m\u001b[39m\"\"\"Implement this method in a subclass such that it returns\u001b[39;00m\n\u001b[1;32m    162\u001b[0m \u001b[39m    a serializable object for ``o``, or calls the base implementation\u001b[39;00m\n\u001b[1;32m    163\u001b[0m \u001b[39m    (to raise a ``TypeError``).\u001b[39;00m\n\u001b[0;32m   (...)\u001b[0m\n\u001b[1;32m    177\u001b[0m \n\u001b[1;32m    178\u001b[0m \u001b[39m    \"\"\"\u001b[39;00m\n\u001b[0;32m--> 179\u001b[0m     \u001b[39mraise\u001b[39;00m \u001b[39mTypeError\u001b[39;00m(\u001b[39mf\u001b[39m\u001b[39m'\u001b[39m\u001b[39mObject of type \u001b[39m\u001b[39m{\u001b[39;00mo\u001b[39m.\u001b[39m\u001b[39m__class__\u001b[39m\u001b[39m.\u001b[39m\u001b[39m__name__\u001b[39m\u001b[39m}\u001b[39;00m\u001b[39m \u001b[39m\u001b[39m'\u001b[39m\n\u001b[1;32m    180\u001b[0m                     \u001b[39mf\u001b[39m\u001b[39m'\u001b[39m\u001b[39mis not JSON serializable\u001b[39m\u001b[39m'\u001b[39m)\n",
      "\u001b[0;31mTypeError\u001b[0m: Object of type int64 is not JSON serializable"
     ]
    }
   ],
   "source": [
    "with open(\"stations.json\", \"w\") as file:\n",
    "    json.dump(stations_dict, file)"
   ]
  }
 ],
 "metadata": {
  "kernelspec": {
   "display_name": "Python 3",
   "language": "python",
   "name": "python3"
  },
  "language_info": {
   "codemirror_mode": {
    "name": "ipython",
    "version": 3
   },
   "file_extension": ".py",
   "mimetype": "text/x-python",
   "name": "python",
   "nbconvert_exporter": "python",
   "pygments_lexer": "ipython3",
   "version": "3.9.6"
  },
  "orig_nbformat": 4,
  "vscode": {
   "interpreter": {
    "hash": "31f2aee4e71d21fbe5cf8b01ff0e069b9275f58929596ceb00d14d90e3e16cd6"
   }
  }
 },
 "nbformat": 4,
 "nbformat_minor": 2
}
