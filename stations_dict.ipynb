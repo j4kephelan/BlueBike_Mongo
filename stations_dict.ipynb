{
 "cells": [
  {
   "cell_type": "markdown",
   "metadata": {},
   "source": [
    "This file was used to retrieve the station data, modify some of its fields and convert the file type to a JSON format suitable for our MongoDB database."
   ]
  },
  {
   "cell_type": "code",
   "execution_count": null,
   "metadata": {},
   "outputs": [],
   "source": [
    "import pandas as pd\n",
    "import json"
   ]
  },
  {
   "cell_type": "code",
   "execution_count": null,
   "metadata": {},
   "outputs": [],
   "source": [
    "# Read station CSV into DataFrame and cast \"total docks\" to an int\n",
    "df = pd.read_csv(\"./bikes_data/station_data/current_bluebikes_stations.csv\", skiprows=[0])\n",
    "df[\"Total Docks\"] = df[\"Total Docks\"].astype(int)\n",
    "df.info()"
   ]
  },
  {
   "cell_type": "code",
   "execution_count": null,
   "metadata": {},
   "outputs": [],
   "source": [
    "stations_dict = {}\n",
    "\n",
    "# For each station\n",
    "for i in range(len(df)):\n",
    "    row = df.iloc[i]\n",
    "    temp_name = row[\"NAME\"]\n",
    "    # Create JSON-friendly object containing relevant fields\n",
    "    temp = {\n",
    "    \"name\": temp_name,\n",
    "    \"coordinates\" : [row[\"Long\"], row[\"Lat\"]],\n",
    "    \"municipality\":row[\"Municipality\"],\n",
    "    \"total_docks\":row[\"Total Docks\"],\n",
    "    \"seasonal_status\":row[\"Seasonal Status\"]}\n",
    "\n",
    "    stations_dict[temp_name] = temp"
   ]
  },
  {
   "cell_type": "code",
   "execution_count": null,
   "metadata": {},
   "outputs": [],
   "source": [
    "def add_missing_stations(df, start_station_name, end_station_name, start_lat, start_lon, end_lat, end_lon, stations_dict):\n",
    "    \"\"\" Adds missing stations from historical files to our list of station objects \"\"\"\n",
    "    # For each station in this file,\n",
    "    for i in range(len(df)):\n",
    "        row = df.iloc[i]\n",
    "\n",
    "        # Track start station if not accounted for already\n",
    "        start_station = row[start_station_name]\n",
    "        if start_station not in stations_dict:\n",
    "            # Extract relevant historical information which is still in use\n",
    "            temp = {\n",
    "                \"name\":start_station,\n",
    "                \"coordinates\" : [row[start_lon], row[start_lat]]\n",
    "            }\n",
    "            stations_dict[start_station] = temp\n",
    "\n",
    "         # Track end station if not accounted for already\n",
    "        end_station = row[end_station_name]\n",
    "        if start_station not in stations_dict:\n",
    "            # Extract relevant historical information which is still in use\n",
    "            temp = {\n",
    "                \"name\":end_station,\n",
    "                \"coordinates\" : [row[end_lon], row[end_lat]],\n",
    "            }\n",
    "            stations_dict[end_station] = temp\n",
    "\n",
    "    \n",
    "    return stations_dict\n"
   ]
  },
  {
   "cell_type": "code",
   "execution_count": null,
   "metadata": {},
   "outputs": [],
   "source": [
    "\"\"\" Reading in 2024 data \"\"\"\n",
    "# For January, February, and March\n",
    "for idx in list(range(1,4)):\n",
    "    if idx < 10:\n",
    "        idx = \"0\" + str(idx)\n",
    "    else:\n",
    "        idx = str(idx)\n",
    "    # Read in monthly CSV file to DataFrame\n",
    "    df = pd.read_csv(f\"./bikes_data/trips_data/2024{idx}-bluebikes-tripdata.csv\")\n",
    "    print(idx)\n",
    "    # Extract missing stations\n",
    "    stations_dict =  add_missing_stations(df=df, start_station_name=\"start_station_name\", end_station_name=\"end_station_name\", \n",
    "                                           start_lat=\"start_lat\", start_lon=\"start_lng\",\n",
    "                                          end_lat=\"end_lat\", end_lon=\"end_lng\", stations_dict=stations_dict)\n",
    "\n",
    "\n",
    "\"\"\" Reading in April - December 2023 data \"\"\"\n",
    "# For April – December\n",
    "for idx in list(range(4,13)):\n",
    "    if idx < 10:\n",
    "        idx = \"0\" + str(idx)\n",
    "    else:\n",
    "        idx = str(idx)\n",
    "    # Read in monthly CSV file to DataFrame\n",
    "    df = pd.read_csv(f\"./bikes_data/trips_data/2023{idx}-bluebikes-tripdata.csv\")\n",
    "    print(idx)\n",
    "    # Extract missing stations\n",
    "    stations_dict = add_missing_stations(df=df, start_station_name=\"start_station_name\", end_station_name=\"end_station_name\", \n",
    "                                          start_lat=\"start_lat\", start_lon=\"start_lng\",\n",
    "                                          end_lat=\"end_lat\", end_lon=\"end_lng\", stations_dict=stations_dict)\n"
   ]
  },
  {
   "cell_type": "code",
   "execution_count": null,
   "metadata": {},
   "outputs": [],
   "source": [
    "\"\"\" Reading in station data back to 2019 \"\"\"\n",
    "for year in [2019, 2020, 2021, 2022, 2023]:\n",
    "    for idx in list(range(1,13)):\n",
    "        if year == 2023 and idx == 4:  # Headers change starting in 04/2023\n",
    "            break\n",
    "        if idx < 10:\n",
    "            idx = \"0\" + str(idx)\n",
    "        else:\n",
    "            idx = str(idx)\n",
    "        # Read in monthly CSV file to DataFrame\n",
    "        df = pd.read_csv(f\"./bikes_data/trips_data/{year}{idx}-bluebikes-tripdata.csv\")\n",
    "        # Extract missing stations\n",
    "        stations_dict = add_missing_stations(df=df, start_station_name=\"start station name\", end_station_name=\"end station name\", \n",
    "                                          start_lat=\"start station latitude\", start_lon=\"start station longitude\", \n",
    "                                          end_lat=\"end station latitude\", end_lon=\"end station longitude\", stations_dict=stations_dict)"
   ]
  },
  {
   "cell_type": "code",
   "execution_count": null,
   "metadata": {},
   "outputs": [],
   "source": [
    "# Write station object list to JSON file\n",
    "with open(\"stations_2.json\", \"w\") as file:\n",
    "    json.dump(stations_dict, file)"
   ]
  }
 ],
 "metadata": {
  "kernelspec": {
   "display_name": "Python 3",
   "language": "python",
   "name": "python3"
  },
  "language_info": {
   "codemirror_mode": {
    "name": "ipython",
    "version": 3
   },
   "file_extension": ".py",
   "mimetype": "text/x-python",
   "name": "python",
   "nbconvert_exporter": "python",
   "pygments_lexer": "ipython3",
   "version": "3.10.6"
  },
  "orig_nbformat": 4,
  "vscode": {
   "interpreter": {
    "hash": "31f2aee4e71d21fbe5cf8b01ff0e069b9275f58929596ceb00d14d90e3e16cd6"
   }
  }
 },
 "nbformat": 4,
 "nbformat_minor": 2
}
